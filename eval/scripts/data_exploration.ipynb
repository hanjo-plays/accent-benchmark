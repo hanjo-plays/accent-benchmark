{
 "cells": [
  {
   "cell_type": "code",
   "execution_count": 3,
   "id": "24852afa",
   "metadata": {},
   "outputs": [
    {
     "name": "stderr",
     "output_type": "stream",
     "text": [
      "c:\\Users\\johan\\anaconda3\\envs\\accent-benchmark\\Lib\\site-packages\\tqdm\\auto.py:21: TqdmWarning: IProgress not found. Please update jupyter and ipywidgets. See https://ipywidgets.readthedocs.io/en/stable/user_install.html\n",
      "  from .autonotebook import tqdm as notebook_tqdm\n"
     ]
    }
   ],
   "source": [
    "import pandas as pd\n",
    "import numpy as np\n",
    "import soundfile as sf\n",
    "import matplotlib.pyplot as plt\n",
    "import seaborn as sns\n",
    "from datasets import load_dataset, Dataset\n",
    "from pathlib import Path\n",
    "\n",
    "ParquetDataDir = r\"C:/Users/johan/accent-benchmark/data/raw/Svarah/data\""
   ]
  },
  {
   "cell_type": "code",
   "execution_count": 4,
   "id": "1c815ee0",
   "metadata": {},
   "outputs": [
    {
     "name": "stdout",
     "output_type": "stream",
     "text": [
      "Found [WindowsPath('C:/Users/johan/accent-benchmark/data/raw/Svarah/data/test-00000-of-00003.parquet'), WindowsPath('C:/Users/johan/accent-benchmark/data/raw/Svarah/data/test-00001-of-00003.parquet'), WindowsPath('C:/Users/johan/accent-benchmark/data/raw/Svarah/data/test-00002-of-00003.parquet')] parquet files.\n"
     ]
    }
   ],
   "source": [
    "parquet_files = list(Path(ParquetDataDir).rglob(\"*.parquet\"))\n",
    "print(f\"Found {(parquet_files)} parquet files.\")"
   ]
  },
  {
   "cell_type": "code",
   "execution_count": null,
   "id": "cf003936",
   "metadata": {},
   "outputs": [
    {
     "name": "stdout",
     "output_type": "stream",
     "text": [
      "Index(['audio_filepath', 'duration', 'text', 'gender', 'age-group',\n",
      "       'primary_language', 'native_place_state', 'native_place_district',\n",
      "       'highest_qualification', 'job_category', 'occupation_domain'],\n",
      "      dtype='object')\n"
     ]
    }
   ],
   "source": [
    "# Read the Parquet files into a Pandas DataFrame because it's straightforward\n",
    "df_pandas = pd.concat([pd.read_parquet(str(file)) for file in parquet_files], ignore_index=True)\n",
    "\n",
    "# Inspect column names\n",
    "print(df_pandas.columns)  \n"
   ]
  },
  {
   "cell_type": "code",
   "execution_count": null,
   "id": "26c4e2b3",
   "metadata": {},
   "outputs": [
    {
     "name": "stdout",
     "output_type": "stream",
     "text": [
      "                                      audio_filepath  duration  \\\n",
      "0  {'bytes': b'RIFF\\x14G\\x04\\x00WAVEfmt \\x10\\x00\\...  8.759500   \n",
      "1  {'bytes': b'RIFF\\xa6\\x83\\x01\\x00WAVEfmt \\x10\\x...  3.100062   \n",
      "2  {'bytes': b'RIFFf8\\x00\\x00WAVEfmt \\x10\\x00\\x00...  0.450062   \n",
      "3  {'bytes': b'RIFFHT\\x01\\x00WAVEfmt \\x10\\x00\\x00...  2.721125   \n",
      "4  {'bytes': b'RIFF\\xee\\xcd\\x01\\x00WAVEfmt \\x10\\x...  3.694313   \n",
      "\n",
      "                                                text  gender age-group  \\\n",
      "0  Our district Hasana was the land of the great ...  Female     18-30   \n",
      "1          There is a gradual shift in the mentality  Female     30-45   \n",
      "2                                                Wow  Female     18-30   \n",
      "3                        Nipah virus belongs to  the  Female     45-60   \n",
      "4  How much money is left in my Arunachal Pradesh...    Male     30-45   \n",
      "\n",
      "  primary_language native_place_state native_place_district  \\\n",
      "0          Kannada          Karnataka                Hassan   \n",
      "1          Kannada          Karnataka              Gulbarga   \n",
      "2            Dogri      Jammu Kashmir                 Jammu   \n",
      "3         Maithili              Bihar             Darbhanga   \n",
      "4         Maithili              Bihar             Darbhanga   \n",
      "\n",
      "  highest_qualification job_category        occupation_domain  \n",
      "0         Post Graduate    Full Time  Technology and Services  \n",
      "1         Post Graduate    Full Time  Technology and Services  \n",
      "2              Graduate        Other   Education and Research  \n",
      "3              Graduate    Full Time   Education and Research  \n",
      "4         Post Graduate    Full Time   Education and Research  \n"
     ]
    }
   ],
   "source": [
    "# Inspect first few rows\n",
    "print(df_pandas.head())  "
   ]
  },
  {
   "cell_type": "code",
   "execution_count": null,
   "id": "3b3e40de",
   "metadata": {},
   "outputs": [
    {
     "data": {
      "text/plain": [
       "audio_filepath           0\n",
       "duration                 0\n",
       "text                     0\n",
       "gender                   0\n",
       "age-group                0\n",
       "primary_language         0\n",
       "native_place_state       0\n",
       "native_place_district    0\n",
       "highest_qualification    0\n",
       "job_category             0\n",
       "occupation_domain        0\n",
       "dtype: int64"
      ]
     },
     "execution_count": 13,
     "metadata": {},
     "output_type": "execute_result"
    }
   ],
   "source": [
    "# Check for missing values in each column\n",
    "df_pandas.isna().sum().sort_values(ascending=False)\n"
   ]
  },
  {
   "cell_type": "code",
   "execution_count": null,
   "id": "1c3dea0b",
   "metadata": {},
   "outputs": [
    {
     "data": {
      "text/plain": [
       "np.int64(0)"
      ]
     },
     "execution_count": 15,
     "metadata": {},
     "output_type": "execute_result"
    }
   ],
   "source": [
    "# Check for duplicate rows based on all columns except 'audio_filepath' since it contains dicts (unhashable)\n",
    "df_pandas.drop(columns=['audio_filepath']).duplicated().sum()"
   ]
  },
  {
   "cell_type": "code",
   "execution_count": 18,
   "id": "ab1139b2",
   "metadata": {},
   "outputs": [
    {
     "data": {
      "text/html": [
       "<div>\n",
       "<style scoped>\n",
       "    .dataframe tbody tr th:only-of-type {\n",
       "        vertical-align: middle;\n",
       "    }\n",
       "\n",
       "    .dataframe tbody tr th {\n",
       "        vertical-align: top;\n",
       "    }\n",
       "\n",
       "    .dataframe thead th {\n",
       "        text-align: right;\n",
       "    }\n",
       "</style>\n",
       "<table border=\"1\" class=\"dataframe\">\n",
       "  <thead>\n",
       "    <tr style=\"text-align: right;\">\n",
       "      <th></th>\n",
       "      <th>audio_filepath</th>\n",
       "      <th>duration</th>\n",
       "      <th>text</th>\n",
       "      <th>gender</th>\n",
       "      <th>age-group</th>\n",
       "      <th>primary_language</th>\n",
       "      <th>native_place_state</th>\n",
       "      <th>native_place_district</th>\n",
       "      <th>highest_qualification</th>\n",
       "      <th>job_category</th>\n",
       "      <th>occupation_domain</th>\n",
       "    </tr>\n",
       "  </thead>\n",
       "  <tbody>\n",
       "  </tbody>\n",
       "</table>\n",
       "</div>"
      ],
      "text/plain": [
       "Empty DataFrame\n",
       "Columns: [audio_filepath, duration, text, gender, age-group, primary_language, native_place_state, native_place_district, highest_qualification, job_category, occupation_domain]\n",
       "Index: []"
      ]
     },
     "execution_count": 18,
     "metadata": {},
     "output_type": "execute_result"
    }
   ],
   "source": [
    "# Check for non-finite values in the 'duration' column\n",
    "df_pandas[~np.isfinite(df_pandas[\"duration\"])]"
   ]
  },
  {
   "cell_type": "code",
   "execution_count": null,
   "id": "25c7d25d",
   "metadata": {},
   "outputs": [
    {
     "data": {
      "text/html": [
       "<div>\n",
       "<style scoped>\n",
       "    .dataframe tbody tr th:only-of-type {\n",
       "        vertical-align: middle;\n",
       "    }\n",
       "\n",
       "    .dataframe tbody tr th {\n",
       "        vertical-align: top;\n",
       "    }\n",
       "\n",
       "    .dataframe thead th {\n",
       "        text-align: right;\n",
       "    }\n",
       "</style>\n",
       "<table border=\"1\" class=\"dataframe\">\n",
       "  <thead>\n",
       "    <tr style=\"text-align: right;\">\n",
       "      <th></th>\n",
       "      <th>duration</th>\n",
       "    </tr>\n",
       "  </thead>\n",
       "  <tbody>\n",
       "    <tr>\n",
       "      <th>count</th>\n",
       "      <td>6656.000000</td>\n",
       "    </tr>\n",
       "    <tr>\n",
       "      <th>mean</th>\n",
       "      <td>5.200120</td>\n",
       "    </tr>\n",
       "    <tr>\n",
       "      <th>std</th>\n",
       "      <td>4.568625</td>\n",
       "    </tr>\n",
       "    <tr>\n",
       "      <th>min</th>\n",
       "      <td>0.098000</td>\n",
       "    </tr>\n",
       "    <tr>\n",
       "      <th>25%</th>\n",
       "      <td>1.815234</td>\n",
       "    </tr>\n",
       "    <tr>\n",
       "      <th>50%</th>\n",
       "      <td>4.208344</td>\n",
       "    </tr>\n",
       "    <tr>\n",
       "      <th>75%</th>\n",
       "      <td>7.200000</td>\n",
       "    </tr>\n",
       "    <tr>\n",
       "      <th>max</th>\n",
       "      <td>29.871063</td>\n",
       "    </tr>\n",
       "  </tbody>\n",
       "</table>\n",
       "</div>"
      ],
      "text/plain": [
       "          duration\n",
       "count  6656.000000\n",
       "mean      5.200120\n",
       "std       4.568625\n",
       "min       0.098000\n",
       "25%       1.815234\n",
       "50%       4.208344\n",
       "75%       7.200000\n",
       "max      29.871063"
      ]
     },
     "execution_count": 17,
     "metadata": {},
     "output_type": "execute_result"
    }
   ],
   "source": [
    "# Basic statistics of the 'duration' column\n",
    "df_pandas.describe()"
   ]
  },
  {
   "cell_type": "code",
   "execution_count": null,
   "id": "11220aa4",
   "metadata": {},
   "outputs": [
    {
     "data": {
      "text/html": [
       "<div>\n",
       "<style scoped>\n",
       "    .dataframe tbody tr th:only-of-type {\n",
       "        vertical-align: middle;\n",
       "    }\n",
       "\n",
       "    .dataframe tbody tr th {\n",
       "        vertical-align: top;\n",
       "    }\n",
       "\n",
       "    .dataframe thead th {\n",
       "        text-align: right;\n",
       "    }\n",
       "</style>\n",
       "<table border=\"1\" class=\"dataframe\">\n",
       "  <thead>\n",
       "    <tr style=\"text-align: right;\">\n",
       "      <th></th>\n",
       "      <th>audio_filepath</th>\n",
       "      <th>duration</th>\n",
       "      <th>text</th>\n",
       "      <th>gender</th>\n",
       "      <th>age-group</th>\n",
       "      <th>primary_language</th>\n",
       "      <th>native_place_state</th>\n",
       "      <th>native_place_district</th>\n",
       "      <th>highest_qualification</th>\n",
       "      <th>job_category</th>\n",
       "      <th>occupation_domain</th>\n",
       "    </tr>\n",
       "  </thead>\n",
       "  <tbody>\n",
       "  </tbody>\n",
       "</table>\n",
       "</div>"
      ],
      "text/plain": [
       "Empty DataFrame\n",
       "Columns: [audio_filepath, duration, text, gender, age-group, primary_language, native_place_state, native_place_district, highest_qualification, job_category, occupation_domain]\n",
       "Index: []"
      ]
     },
     "execution_count": 19,
     "metadata": {},
     "output_type": "execute_result"
    }
   ],
   "source": [
    "# Check for empty or whitespace-only strings in the 'text' column\n",
    "df_pandas[df_pandas[\"text\"].str.strip().eq(\"\")]"
   ]
  },
  {
   "cell_type": "code",
   "execution_count": null,
   "id": "e34d886a",
   "metadata": {},
   "outputs": [
    {
     "data": {
      "text/plain": [
       "np.float64(10.41436298076923)"
      ]
     },
     "execution_count": 20,
     "metadata": {},
     "output_type": "execute_result"
    }
   ],
   "source": [
    "# Average number of words in the 'text' column\n",
    "# Important because very short texts may not provide enough context for accent recognition\n",
    "df_pandas[\"text\"].str.split().str.len().mean()\n"
   ]
  },
  {
   "cell_type": "code",
   "execution_count": null,
   "id": "3f7ea5b4",
   "metadata": {},
   "outputs": [
    {
     "data": {
      "text/plain": [
       "<Axes: xlabel='duration', ylabel='Count'>"
      ]
     },
     "execution_count": 23,
     "metadata": {},
     "output_type": "execute_result"
    },
    {
     "data": {
      "image/png": "[encoded data removed]",
      "text/plain": [
       "<Figure size 640x480 with 1 Axes>"
      ]
     },
     "metadata": {},
     "output_type": "display_data"
    }
   ],
   "source": [
    "# Plot histogram for all durations\n",
    "sns.histplot(df_pandas[\"duration\"], bins=100)\n"
   ]
  }
 ],
 "metadata": {
  "kernelspec": {
   "display_name": "accent-benchmark",
   "language": "python",
   "name": "python3"
  },
  "language_info": {
   "codemirror_mode": {
    "name": "ipython",
    "version": 3
   },
   "file_extension": ".py",
   "mimetype": "text/x-python",
   "name": "python",
   "nbconvert_exporter": "python",
   "pygments_lexer": "ipython3",
   "version": "3.11.13"
  }
 },
 "nbformat": 4,
 "nbformat_minor": 5
}
